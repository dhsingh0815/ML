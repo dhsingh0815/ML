{
  "nbformat": 4,
  "nbformat_minor": 0,
  "metadata": {
    "colab": {
      "provenance": [],
      "authorship_tag": "ABX9TyNJk6mqDhVWHPoEE/FEDGTD",
      "include_colab_link": true
    },
    "kernelspec": {
      "name": "python3",
      "display_name": "Python 3"
    },
    "language_info": {
      "name": "python"
    }
  },
  "cells": [
    {
      "cell_type": "markdown",
      "metadata": {
        "id": "view-in-github",
        "colab_type": "text"
      },
      "source": [
        "<a href=\"https://colab.research.google.com/github/dhsingh0815/ML/blob/main/Python_Logistics_Regression.ipynb\" target=\"_parent\"><img src=\"https://colab.research.google.com/assets/colab-badge.svg\" alt=\"Open In Colab\"/></a>"
      ]
    },
    {
      "cell_type": "code",
      "execution_count": 19,
      "metadata": {
        "id": "Pp-af6mYMX0G"
      },
      "outputs": [],
      "source": [
        "%matplotlib inline\n",
        "import pandas as pd\n",
        "import numpy as np\n",
        "import matplotlib.pyplot as plt\n",
        "import seaborn as sns\n",
        "import math"
      ]
    },
    {
      "cell_type": "code",
      "source": [
        "x=np.array([1,2,3,4,5])\n",
        "y=np.array([5,7,9,11,13])"
      ],
      "metadata": {
        "id": "QDrDz7D6Mmt8"
      },
      "execution_count": 20,
      "outputs": []
    },
    {
      "cell_type": "code",
      "source": [
        "def gradient_descent(x,y):\n",
        "  m_curr=0\n",
        "  b_curr=0\n",
        "  iterations=1000\n",
        "  n=len(x)\n",
        "  learing_rate=0.08\n",
        "  for i in range(iterations):\n",
        "    y_predicted=m_curr*x+b_curr\n",
        "    cost=(1/n)*sum([val**2 for val in (y-y_predicted)])\n",
        "    md=-(2/n)*sum(x*(y-y_predicted))\n",
        "    bd=-(2/n)*sum(y-y_predicted)\n",
        "    m_curr=m_curr-learing_rate*md\n",
        "    b_curr=b_curr-learing_rate*bd\n",
        "\n",
        "    print(\"m {},b {},cost {},iteration {}\".format(m_curr,b_curr,cost,i))"
      ],
      "metadata": {
        "id": "9vRAAJlCVDan"
      },
      "execution_count": 21,
      "outputs": []
    },
    {
      "cell_type": "code",
      "source": [
        "gradient_descent(x,y)"
      ],
      "metadata": {
        "collapsed": true,
        "id": "Au5FiPxjWgq4"
      },
      "execution_count": null,
      "outputs": []
    },
    {
      "cell_type": "markdown",
      "source": [
        "# Logistics Regression with Gradient Descendent"
      ],
      "metadata": {
        "id": "SHDPbrlAfT2p"
      }
    },
    {
      "cell_type": "code",
      "source": [
        "from sklearn.datasets import make_classification"
      ],
      "metadata": {
        "id": "EjxgvZKGfTRb"
      },
      "execution_count": 23,
      "outputs": []
    },
    {
      "cell_type": "code",
      "source": [
        "clasData = make_classification(n_features = 5, n_samples = 50,random_state = 4)\n",
        "x=clasData[0]\n",
        "y=clasData[1]"
      ],
      "metadata": {
        "id": "rIXDcP2GfhV4"
      },
      "execution_count": 24,
      "outputs": []
    },
    {
      "cell_type": "code",
      "source": [
        "learning_rate = 0.1\n",
        "n_iter = 600\n",
        "b = 0\n",
        "w = np.zeros(x.shape[1])  #an array of weights for each x variables"
      ],
      "metadata": {
        "id": "JbeqrOoVf3zc"
      },
      "execution_count": 25,
      "outputs": []
    },
    {
      "cell_type": "markdown",
      "source": [
        "predict = w*transpose of x + b </br>\n",
        "sigmoid = 1 / 1+ e^-predict </br>\n",
        "loss = (-1/n)Summation over i=1 to n of (yi * log(sigmoidi) + (1-yi)log(1-sigmoidi) </br>\n",
        "dloss/dw (Gradient of loss w.r.t weights) = (1/n)Summation over i=1 to n (Sigmoidi-yi)*xi </br>\n",
        "dloss/db (Gradient of loss w.r.t intercept) = (1/n) Summation over i=1 to n Sigmoidi-yi  </br>\n",
        "update = a - (learningrate * g) ; a could be weight or intercept and correspondingly g could be dloss/dw or dloss/db</br>"
      ],
      "metadata": {
        "id": "YN9jFqi9gT5w"
      }
    },
    {
      "cell_type": "code",
      "source": [],
      "metadata": {
        "id": "3XpUjjrugef6"
      },
      "execution_count": 25,
      "outputs": []
    },
    {
      "cell_type": "code",
      "source": [
        "predict = lambda x, w, b: np.matmul(w,x.T) + b\n",
        "sigmoid = lambda y_predicted: 1/(1+np.exp(-y_predicted))\n",
        "loss = lambda y, sigmoid: -(y*np.log(sigmoid)+(1-y)*np.log(1-sigmoid)).mean()\n",
        "dldw = lambda x, y, sigmoid: (np.reshape(sigmoid-y,(50,1))*x).mean(axis = 0)\n",
        "dldb = lambda y, sig: (sig-y).mean(axis = 0)\n",
        "update_coefficients = lambda a, g, lr: a-(g*lr)"
      ],
      "metadata": {
        "id": "skHF026JDZMf"
      },
      "execution_count": 26,
      "outputs": []
    },
    {
      "cell_type": "code",
      "source": [
        "losses = []\n",
        "for i in range(n_iter):\n",
        "    y_predicted = predict(x,w,b)\n",
        "    sig = sigmoid(y_predicted)\n",
        "    logloss = loss(y,sig)\n",
        "    losses.append(logloss)\n",
        "    grad_w = dldw(x,y,sig)\n",
        "    grad_b = dldb(y,sig)\n",
        "    w = update_coefficients(w,grad_w,learning_rate)\n",
        "    b = update_coefficients(b,grad_b,learning_rate)\n",
        "import matplotlib.pyplot as plt\n",
        "plt.plot(losses)"
      ],
      "metadata": {
        "colab": {
          "base_uri": "https://localhost:8080/",
          "height": 448
        },
        "id": "KtNYzi6LDzML",
        "outputId": "dd3784ac-84ae-4c7e-ccd3-b109b56e1b6a"
      },
      "execution_count": 27,
      "outputs": [
        {
          "output_type": "execute_result",
          "data": {
            "text/plain": [
              "[<matplotlib.lines.Line2D at 0x7fed49621690>]"
            ]
          },
          "metadata": {},
          "execution_count": 27
        },
        {
          "output_type": "display_data",
          "data": {
            "text/plain": [
              "<Figure size 640x480 with 1 Axes>"
            ],
            "image/png": "[encoded data removed]"
          },
          "metadata": {}
        }
      ]
    }
  ]
}