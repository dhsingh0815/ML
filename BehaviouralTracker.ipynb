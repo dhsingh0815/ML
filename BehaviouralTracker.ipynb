{
  "nbformat": 4,
  "nbformat_minor": 0,
  "metadata": {
    "colab": {
      "provenance": [],
      "authorship_tag": "ABX9TyPfj9gFDMAvKDgAwEPoUvcQ",
      "include_colab_link": true
    },
    "kernelspec": {
      "name": "python3",
      "display_name": "Python 3"
    },
    "language_info": {
      "name": "python"
    }
  },
  "cells": [
    {
      "cell_type": "markdown",
      "metadata": {
        "id": "view-in-github",
        "colab_type": "text"
      },
      "source": [
        "<a href=\"https://colab.research.google.com/github/dhsingh0815/ML/blob/main/BehaviouralTracker.ipynb\" target=\"_parent\"><img src=\"https://colab.research.google.com/assets/colab-badge.svg\" alt=\"Open In Colab\"/></a>"
      ]
    },
    {
      "cell_type": "code",
      "source": [
        "pip install python-docx"
      ],
      "metadata": {
        "colab": {
          "base_uri": "https://localhost:8080/"
        },
        "id": "tap61GuMLAti",
        "outputId": "dfff2303-733e-49ac-b65a-fc3f5835ccde"
      },
      "execution_count": 2,
      "outputs": [
        {
          "output_type": "stream",
          "name": "stdout",
          "text": [
            "Collecting python-docx\n",
            "  Downloading python_docx-1.2.0-py3-none-any.whl.metadata (2.0 kB)\n",
            "Requirement already satisfied: lxml>=3.1.0 in /usr/local/lib/python3.12/dist-packages (from python-docx) (5.4.0)\n",
            "Requirement already satisfied: typing_extensions>=4.9.0 in /usr/local/lib/python3.12/dist-packages (from python-docx) (4.15.0)\n",
            "Downloading python_docx-1.2.0-py3-none-any.whl (252 kB)\n",
            "\u001b[?25l   \u001b[90m━━━━━━━━━━━━━━━━━━━━━━━━━━━━━━━━━━━━━━━━\u001b[0m \u001b[32m0.0/253.0 kB\u001b[0m \u001b[31m?\u001b[0m eta \u001b[36m-:--:--\u001b[0m\r\u001b[2K   \u001b[90m━━━━━━━━━━━━━━━━━━━━━━━━━━━━━━━━━━━━━━━━\u001b[0m \u001b[32m253.0/253.0 kB\u001b[0m \u001b[31m14.7 MB/s\u001b[0m eta \u001b[36m0:00:00\u001b[0m\n",
            "\u001b[?25hInstalling collected packages: python-docx\n",
            "Successfully installed python-docx-1.2.0\n"
          ]
        }
      ]
    },
    {
      "cell_type": "code",
      "execution_count": 6,
      "metadata": {
        "id": "nVSa7lhVK23v"
      },
      "outputs": [],
      "source": [
        "from docx import Document\n",
        "\n",
        "# Create the document\n",
        "doc = Document()\n",
        "doc.add_heading('3-Month Behavior Change Journal', 0)\n",
        "\n",
        "# Overview Section\n",
        "doc.add_heading('🌟 Personal Development Goals', level=1)\n",
        "doc.add_paragraph(\"\"\"\n",
        "- Think before implementing\n",
        "- Take on challenging tasks\n",
        "- Take personal ownership\n",
        "- Strive for excellence, not just completion\n",
        "- Reduce distractions from instant gratification sources (e.g., social media, snacks, multitasking)\n",
        "\"\"\")\n",
        "\n",
        "doc.add_heading('🔁 Core Weekly Habits', level=1)\n",
        "table = doc.add_table(rows=1, cols=2)\n",
        "hdr_cells = table.rows[0].cells\n",
        "hdr_cells[0].text = 'Habit'\n",
        "hdr_cells[1].text = 'Frequency'\n",
        "habits = [\n",
        "    (\"5-min Pause Before Starting Work\", \"Daily\"),\n",
        "    (\"Daily Reflection Journal\", \"Daily\"),\n",
        "    (\"Tackle 1 Hard Task\", \"Weekly\"),\n",
        "    (\"Review Work With Pride\", \"Weekly\"),\n",
        "    (\"Weekly Reflection\", \"Weekly\"),\n",
        "    (\"Notice & reduce distractions\", \"Daily\")\n",
        "]\n",
        "for habit, freq in habits:\n",
        "    row_cells = table.add_row().cells\n",
        "    row_cells[0].text = habit\n",
        "    row_cells[1].text = freq\n",
        "\n",
        "# Monthly Sections\n",
        "for month_num in range(1, 4):\n",
        "    doc.add_page_break()\n",
        "    doc.add_heading(f'📅 Month {month_num} Overview', level=1)\n",
        "    table = doc.add_table(rows=1, cols=4)\n",
        "    hdr_cells = table.rows[0].cells\n",
        "    hdr_cells[0].text = 'Week'\n",
        "    hdr_cells[1].text = \"Challenge I'm Taking On\"\n",
        "    hdr_cells[2].text = 'Intentional Habit to Focus'\n",
        "    hdr_cells[3].text = 'Notes'\n",
        "    for i in range(1, 5):\n",
        "        row_cells = table.add_row().cells\n",
        "        row_cells[0].text = f'Week {i}'\n",
        "\n",
        "    for week in range(1, 5):\n",
        "        doc.add_page_break()\n",
        "        doc.add_heading(f'🧭 Weekly Reflection - Week {week}', level=2)\n",
        "        doc.add_paragraph(f'Week #: {week} | Dates: ___________')\n",
        "        doc.add_paragraph(\"\"\"\n",
        "- Did I pause before starting tasks? Y/N\n",
        "- Did I take on a hard challenge? What was it?\n",
        "- Did I take pride in any task? What made it feel meaningful?\n",
        "- What did I do just to get it done? Why?\n",
        "- What will I do better next week?\n",
        "- What distracted me the most this week?\n",
        "- What situations led me to choose short-term comfort?\n",
        "- How many times did I redirect my attention intentionally?\n",
        "\"\"\")\n",
        "\n",
        "        doc.add_heading('📘 Daily Journal (Mon–Fri)', level=3)\n",
        "        table = doc.add_table(rows=6, cols=6)\n",
        "        headers = [\n",
        "            \"Day\",\n",
        "            \"What did I rush into today?\",\n",
        "            \"What did I avoid (if anything)?\",\n",
        "            \"Did I do anything just for the sake of it?\",\n",
        "            \"Where did I show pride or ownership?\",\n",
        "            \"What distracted me today?\"\n",
        "        ]\n",
        "        for i, h in enumerate(headers):\n",
        "            table.rows[0].cells[i].text = h\n",
        "        days = [\"Mon\", \"Tue\", \"Wed\", \"Thu\", \"Fri\"]\n",
        "        for i, day in enumerate(days, 1):\n",
        "            table.rows[i].cells[0].text = day\n",
        "\n",
        "# Save the file\n",
        "doc.save(\"3-Month_Behavior_Change_Journal_Updated.docx\")\n"
      ]
    },
    {
      "cell_type": "code",
      "source": [],
      "metadata": {
        "id": "tzovHeGYK_wq"
      },
      "execution_count": null,
      "outputs": []
    }
  ]
}